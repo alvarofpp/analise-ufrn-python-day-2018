{
 "cells": [
  {
   "cell_type": "markdown",
   "metadata": {},
   "source": [
    "# Análise de dados socioeconômicos\n",
    "Iremos analisar os dados socioeconômicos e complementares dos discentes da Universidade Federal do Rio Grande do Norte - UFRN, a fim de entendermos melhor os perfis de pessoas que entram nessa universidade.\n",
    "\n",
    "# Sumário\n",
    "- [Base de Dados](#base-dados)\n",
    "- [Código](#codigo)\n",
    "  - [Dependências](#dependencias)\n",
    "  - [Preparando os dados](#preparando-dados)\n",
    "  - [Analises](#analises)\n",
    "\n",
    "# <a id=\"base-dados\">Base de Dados</a>\n",
    "Os dados utilizados formam retirados do site de [dados abertos da UFRN](http://dados.ufrn.br/). Foram utilizados os seguintes conjuntos de dados:\n",
    "\n",
    "- [Dados Sócio-Econômicos de Discentes](http://dados.ufrn.br/dataset/dados-socio-economicos-de-discentes)\n",
    "\n",
    "# <a id=\"codigo\">Código</a>\n",
    "Agora iremos para a parte em que tentaremos encontrar as respostas das [perguntas orientadoras](#perguntas-orientadoras).\n",
    "\n",
    "## <a id=\"dependencias\">Dependências</a>\n",
    "Nessa seção, iremos declarar as dependências necessárias para o Jupyter Notebook executar corretamente, para isso iremos: declarar as variáveis globais que iremos utilizar, importar as libs necessárias e preparar os arquivos que temos para podermos utilizá-los nas seções seguintes.\n",
    "\n",
    "- [re](https://docs.python.org/3/library/re.html)\n",
    "- [Numpy](http://www.numpy.org/) as **np**\n",
    "- [Pandas](https://pandas.pydata.org/) as **pd**\n",
    "- [Matplotlib](https://matplotlib.org/) as **plt**\n",
    "\n",
    "```sh\n",
    "conda install -c conda-forge numpy\n",
    "conda install -c conda-forge matplotlib\n",
    "conda install -c conda-forge pandas\n",
    "```"
   ]
  },
  {
   "cell_type": "code",
   "execution_count": null,
   "metadata": {},
   "outputs": [],
   "source": [
    "# Pacotes que iremos utilizar\n",
    "import re\n",
    "import numpy as np\n",
    "import pandas as pd\n",
    "from os import listdir\n",
    "import matplotlib.pyplot as plt"
   ]
  },
  {
   "cell_type": "markdown",
   "metadata": {},
   "source": [
    "## <a id=\"preparando-dados\">Preparando os dados</a>\n",
    "Agora iremos criar uma variável chamada **dfs** que conterá os dataframes com os dados socioeconômicos e complementares dos discentes da UFRN. Para isso, além das funções informadas logo a seguir, iremos criar uma função chamada **make_df** que gerará um único DataFrame a partir de uma lista de arquivos.\n",
    "\n",
    "Funções que irão nos ajudar:\n",
    "- **[pandas.read_csv](https://pandas.pydata.org/pandas-docs/stable/generated/pandas.read_csv.html)**: Ler um arquivo [CSV](https://pt.wikipedia.org/wiki/Comma-separated_values) e gera um DataFrame a partir dele;\n",
    "  - **sep**: Especifica um delimitador (`default=','`).\n",
    "- **[pandas.concat](https://pandas.pydata.org/pandas-docs/stable/generated/pandas.concat.html)**: Concatena vários objetos pandas;\n",
    "  - **ignore_index**: Ignora os indexs dos objetos pandas concatenados (`default=False`).\n",
    "- **[re.compile](https://docs.python.org/3/library/re.html#re.compile)**: Compila uma expressão regular;\n",
    "- **[re.search](https://docs.python.org/3/library/re.html#re.search)**: Busca por um padrão em uma string;\n",
    "- **[filter](https://www.programiz.com/python-programming/methods/built-in/filter)**: Filtra cada um dos itens de um iterável usando uma função;\n",
    "- **[list](https://www.tutorialspoint.com/python/list_list.htm)**: Pega uma sequência de valores e converte para uma lista."
   ]
  },
  {
   "cell_type": "code",
   "execution_count": null,
   "metadata": {},
   "outputs": [],
   "source": [
    "def make_df(filenames):\n",
    "    '''Pega uma lista de arquivos e retorna um único dataframe gerado.'''\n",
    "    # Lista de dataframes\n",
    "    dfs = [pd.read_csv('data/'+______, sep=______) for filename in filenames]\n",
    "    # Concatena todos os dataframes em um só\n",
    "    return pd.concat(______, ignore_index=______)\n",
    "\n",
    "# Arquivos da pasta de arquivos de dados\n",
    "files = listdir('data')\n",
    "\n",
    "# Filtro aplicado, lista de arquivos que satisfazem o regex\n",
    "files_socioeconomicos = list(filter(re.compile(r'dados-socio-economicos-20[0-9]{2}').search, ______))\n",
    "\n",
    "# Variável com os dataframes que iremos usar\n",
    "df_socioeconomicos = make_df(______)"
   ]
  },
  {
   "cell_type": "markdown",
   "metadata": {},
   "source": [
    "A função **[pandas.DataFrame.info](https://pandas.pydata.org/pandas-docs/stable/generated/pandas.DataFrame.info.html)** nos fornecerá um sumário dos dados que temos. "
   ]
  },
  {
   "cell_type": "code",
   "execution_count": null,
   "metadata": {},
   "outputs": [],
   "source": [
    "# Código"
   ]
  },
  {
   "cell_type": "markdown",
   "metadata": {},
   "source": [
    "## <a id=\"analises\">Analises</a>\n",
    "Nessa seção, iremos realizar algumas análises dos dados de discentes, a fim de termos uma melhor visão sobre eles.\n",
    "\n",
    "Perguntas orientadoras para as nossas analises:\n",
    "- Qual a renda dos ingressantes da UFRN por ano e período?\n",
    "- Renda dos discentes é um fator importante para adquirir bolsa? \n",
    "\n",
    "Algo interessante que poderiamos analisar inicialmente seria a renda dos ingressantes. Tomemos como base a notícia **[2 em 3 alunos de universidades federais são das classes D e E](https://educacao.estadao.com.br/noticias/geral,2-em-3-alunos-de-universidades-federais-sao-das-classes-d-e-e,10000070529)**.\n",
    "\n",
    "Para a elaboração da coluna **classe**, iremos utilizar a coluna de **renda** junto aos critérios de classificação econômica presente no site da [ABEP](http://www.abep.org/criterio-brasil).\n",
    "\n",
    "Iremos também criar a coluna **ano_periodo** que será a junção de duas colunas já existentes: **ano** e **periodo**.\n",
    "\n",
    "Funções que irão nos ajudar:\n",
    "- **[pandas.Series.max](https://pandas.pydata.org/pandas-docs/stable/generated/pandas.Series.max.html)**: Retorna o maior valor da Series;\n",
    "- **[pandas.cut](https://pandas.pydata.org/pandas-docs/stable/generated/pandas.cut.html)**: Segmentar e classificar os valores de objeto pandas. Essa função também é útil para ir de uma variável contínua para uma variável categórica.\n",
    "  - **labels**: Rótulos atribuidos a partir dos valores inseridos como **bins** (`default=None`);\n",
    "  - **include_lowest**: Se o primeiro intervalo esquerdo deve ser incluído ou não. (`default=False`).\n",
    "- **[pandas.Series.astype](https://pandas.pydata.org/pandas-docs/stable/generated/pandas.Series.astype.html)**: Aplica o cast no objeto pandas.\n",
    "- **[pandas.Series.str.cat](https://pandas.pydata.org/pandas-docs/stable/generated/pandas.Series.str.cat.html)**: Concatena as strings da Series.\n",
    "  - **sep**: Separador das strings concatenadas (`default=None`)."
   ]
  },
  {
   "cell_type": "code",
   "execution_count": null,
   "metadata": {},
   "outputs": [],
   "source": [
    "# Limites de renda\n",
    "bins = [0, 768, 1625, 2705, 4852, 9254, ______]\n",
    "\n",
    "# Labels\n",
    "labels = [\"D-E\", \"C2\", \"C1\", \"B2\", \"B1\", \"A\"]\n",
    "\n",
    "# Criamos a coluna classe\n",
    "df_socioeconomicos['classe'] = pd.cut(\n",
    "    ______, bins, \n",
    "    labels=______, \n",
    "    include_lowest=______\n",
    ")\n",
    "\n",
    "# Ano periodo\n",
    "df_socioeconomicos['ano_periodo'] = df_socioeconomicos['ano'].astype(______).str.cat(\n",
    "    df_socioeconomicos['periodo'].astype(______), sep=______\n",
    ")"
   ]
  },
  {
   "cell_type": "markdown",
   "metadata": {},
   "source": [
    "Usaremos a função **[pandas.DataFrame.head](https://pandas.pydata.org/pandas-docs/stable/generated/pandas.DataFrame.head.html)** para verificarmos as primeiras linhas do nosso DataFrame e ver se a coluna **classe** e **ano_periodo** foram criadas corretamente."
   ]
  },
  {
   "cell_type": "code",
   "execution_count": null,
   "metadata": {},
   "outputs": [],
   "source": [
    "# Código"
   ]
  },
  {
   "cell_type": "markdown",
   "metadata": {},
   "source": [
    "Agora que temos os discentes classificados por renda, podemos criar um gráfico mostrando a taxa de ingressantes da UFRN de modo que poderemos ver a evolução dos grupos de renda.\n",
    "\n",
    "Funções que irão nos ajudar:\n",
    "- **[np.logical_and](https://docs.scipy.org/doc/numpy/reference/generated/numpy.logical_and.html)**: Aplica o operador lógico AND nos vetores booleanos passados;\n",
    "- **[plt.figure](https://matplotlib.org/api/_as_gen/matplotlib.pyplot.figure.html)**: Cria uma nova figura;\n",
    "  - **figsize**: Define o tamanho da figura (tupla de inteiros) (`default=None`).\n",
    "- **[pandas.DataFrame.groupby](https://pandas.pydata.org/pandas-docs/stable/generated/pandas.DataFrame.groupby.html)**: Agrupa as Series do DataFrame;\n",
    "- **[pandas.Series.count](https://pandas.pydata.org/pandas-docs/stable/generated/pandas.Series.count.html)**: Conta a quantidade de valores não nulos na Series;\n",
    "- **[pandas.Series.keys](https://pandas.pydata.org/pandas-docs/stable/generated/pandas.Series.keys.html)**: Chaves para os índices;\n",
    "- **[pandas.Series.values](https://pandas.pydata.org/pandas-docs/stable/generated/pandas.Series.values.html)**: Retorna os valores da Series;\n",
    "- **[plt.plot](https://matplotlib.org/api/_as_gen/matplotlib.pyplot.plot.html)**: Traça um valor (X,Y) como linha ou marcador;\n",
    "  - **label**: Define o rótulo;\n",
    "  - **linewidth**: Define a largura da linha/marcador.\n",
    "- **[plt.legend](https://matplotlib.org/api/_as_gen/matplotlib.pyplot.legend.html)**: Coloca a legenda;\n",
    "  - **bbox_to_anchor**: Define a posição da legenda (uso conjunto com o **loc**);\n",
    "  - **loc**: A localização da legenda.\n",
    "- **[plt.xlabel](https://matplotlib.org/api/_as_gen/matplotlib.pyplot.xlabel.html)**: Define o rótulo do eixo X;\n",
    "- **[plt.ylabel](https://matplotlib.org/api/_as_gen/matplotlib.pyplot.ylabel.html)**: Define o rótulo do eixo Y;\n",
    "- **[plt.title](https://matplotlib.org/api/_as_gen/matplotlib.pyplot.title.html)**: O título da figura;\n",
    "- **[plt.show](https://matplotlib.org/api/_as_gen/matplotlib.pyplot.show.html)**: Mostra a figura."
   ]
  },
  {
   "cell_type": "code",
   "execution_count": null,
   "metadata": {},
   "outputs": [],
   "source": [
    "# DataFrame para o gráfico (filtro de 2014 - 2017)\n",
    "df_graph_classe = df_socioeconomicos[np.logical_and(\n",
    "    ______, ______\n",
    ")]\n",
    "\n",
    "# Definimos o tamanho da figura que terá o gráfico\n",
    "plt.figure(figsize=(15,8))\n",
    "\n",
    "# Linhas do gráfico para cada classe\n",
    "for label in labels:\n",
    "    classe_count = df_graph_classe[df_graph_classe['classe'] == label].groupby(______)['id_discente'].______()\n",
    "    plt.plot(classe_count.______(), classe_count.______, label=label, linewidth=4)\n",
    "\n",
    "# Demais configurações do gráfico\n",
    "plt.legend(bbox_to_anchor=(1.02, 1), loc='upper left')\n",
    "plt.xlabel('Ano-Período')\n",
    "plt.ylabel('Quantidade de ingressantes')\n",
    "plt.title('Classe social dos alunos por ano-período')\n",
    "plt.show()"
   ]
  },
  {
   "cell_type": "markdown",
   "metadata": {},
   "source": [
    "**DEBATER**.\n",
    "- [\"O futuro não ia ser assim\": Pobreza extrema volta a crescer no Brasil](https://brasil.elpais.com/brasil/2018/05/22/politica/1526941832_202640.html)"
   ]
  },
  {
   "cell_type": "markdown",
   "metadata": {},
   "source": [
    "Agora iremos construir 4 gráficos de barra, um para cada bolsa/auxílio que temos registrado, que são:\n",
    "- Bolsa de Pesquisa\n",
    "- Auxílio Residência Moradia\n",
    "- Auxílio Alimentação\n",
    "- Auxílio Transporte\n",
    "\n",
    "Funções que irão nos ajudar:\n",
    "- **[plt.bar](https://matplotlib.org/api/_as_gen/matplotlib.pyplot.bar.html)**: Cria um gráfico de barra. Primeiro passamos os índices das barras, depois o tamanho (os valores que cada barra terá) e em seguida a largura de cada barra;\n",
    "  - **alpha**: Define a transparência das barras (`default=None`);\n",
    "  - **color**: Define a cor das barras;\n",
    "  - **label**: O rótulo para as barras.\n",
    "- **[plt.xticks](https://matplotlib.org/api/_as_gen/matplotlib.pyplot.xticks.html)**: Definir os locais e rótulos do eixo X.\n"
   ]
  },
  {
   "cell_type": "code",
   "execution_count": null,
   "metadata": {
    "scrolled": false
   },
   "outputs": [],
   "source": [
    "# Índices de barras que teremos no gráfico\n",
    "index = np.arange(len(labels))\n",
    "# Tamanho da barra\n",
    "bar_width = 0.35\n",
    "# Opacidade\n",
    "opacity = 0.4\n",
    "# Auxílios/bolsa\n",
    "auxilios = ['possui_bolsa_pesquisa', 'possui_auxilio_residencia_moradia',\n",
    "            'possui_auxilio_alimentacao', 'possui_auxilio_transporte']\n",
    "# Títulos do gráfico\n",
    "title = [ 'Bolsa de Pesquisa', 'Auxílio Residência Moradia', 'Auxílio Alimentação', 'Auxílio Transporte' ]\n",
    "\n",
    "for i in range(len(auxilios)):\n",
    "    # Criamos uma nova figura\n",
    "    fig = plt.figure(i+1)\n",
    "    \n",
    "    # Definimos o tamanho da figura que terá o gráfico\n",
    "    plt.figure(figsize=(15,8))\n",
    "\n",
    "    # Pegamos a quantidade de discentes por grupo que possuem ou não o auxilio\n",
    "    classes_auxilios = {\n",
    "        't': df_graph_classe[\n",
    "            df_graph_classe[______] == ______\n",
    "        ].groupby(______)['id_discente'].count(),\n",
    "        'f': df_graph_classe[\n",
    "            df_graph_classe[______] == ______\n",
    "        ].groupby(______)['id_discente'].count()\n",
    "    }\n",
    "\n",
    "    # Barra dos que possuem o auxílio\n",
    "    plt.bar(index, classes_auxilios['t'].______, bar_width,\n",
    "                    alpha=opacity, color='b', label='Possui')\n",
    "\n",
    "    # Barra dos que não possuem o auxílio\n",
    "    plt.bar(index + bar_width, classes_auxilios['f'].______, bar_width,\n",
    "                    alpha=opacity, color='r', label='Não possui')\n",
    "\n",
    "    # Demais configurações do gráfico\n",
    "    plt.xlabel('Classificação de renda')\n",
    "    plt.ylabel('Quantidade de discentes')\n",
    "    plt.title('Discentes por renda que possuem ou não {}'.format(______))\n",
    "    plt.xticks(index + bar_width / 2, labels)\n",
    "    plt.legend()\n",
    "\n",
    "# Exibimos todos os gráficos de uma só vez\n",
    "plt.show()"
   ]
  },
  {
   "cell_type": "code",
   "execution_count": null,
   "metadata": {},
   "outputs": [],
   "source": []
  }
 ],
 "metadata": {
  "kernelspec": {
   "display_name": "Python 3",
   "language": "python",
   "name": "python3"
  },
  "language_info": {
   "codemirror_mode": {
    "name": "ipython",
    "version": 3
   },
   "file_extension": ".py",
   "mimetype": "text/x-python",
   "name": "python",
   "nbconvert_exporter": "python",
   "pygments_lexer": "ipython3",
   "version": "3.7.0"
  }
 },
 "nbformat": 4,
 "nbformat_minor": 2
}
